{
  "nbformat": 4,
  "nbformat_minor": 0,
  "metadata": {
    "kernelspec": {
      "display_name": "Python 3",
      "language": "python",
      "name": "python3"
    },
    "language_info": {
      "codemirror_mode": {
        "name": "ipython",
        "version": 3
      },
      "file_extension": ".py",
      "mimetype": "text/x-python",
      "name": "python",
      "nbconvert_exporter": "python",
      "pygments_lexer": "ipython3",
      "version": "3.8.3"
    },
    "colab": {
      "name": "Pedantic_Code.ipynb",
      "provenance": [],
      "collapsed_sections": []
    }
  },
  "cells": [
    {
      "cell_type": "markdown",
      "metadata": {
        "id": "D5pkh4RJQzqD"
      },
      "source": [
        "# Propositional Logic"
      ]
    },
    {
      "cell_type": "markdown",
      "metadata": {
        "id": "GzFJlSnQQzqG"
      },
      "source": [
        "## DisMath_Coding_01"
      ]
    },
    {
      "cell_type": "markdown",
      "metadata": {
        "id": "rOGM5KYnQzqH"
      },
      "source": [
        "submitted by: "
      ]
    },
    {
      "cell_type": "markdown",
      "metadata": {
        "id": "lgcx__wnQzqI"
      },
      "source": [
        "Go, Zechariah S."
      ]
    },
    {
      "cell_type": "markdown",
      "metadata": {
        "id": "jsiXRNNmQzqI"
      },
      "source": [
        "58007"
      ]
    },
    {
      "cell_type": "markdown",
      "metadata": {
        "id": "ZiEgSex6QzqJ"
      },
      "source": [
        "### Given English Statement: "
      ]
    },
    {
      "cell_type": "markdown",
      "metadata": {
        "id": "kgqdPIGMQzqK"
      },
      "source": [
        "#### Add additional fries and drinks to the order if the customer would buy a Cheese Burger Deluxe and add a Sundae instead if they also do. Always remember to print the receipt for every transaction."
      ]
    },
    {
      "cell_type": "markdown",
      "metadata": {
        "id": "rlJQg7FHQzqL"
      },
      "source": [
        "p: Add additional fries and drinks\n",
        "\n"
      ]
    },
    {
      "cell_type": "markdown",
      "metadata": {
        "id": "xu8IrLqBQzqL"
      },
      "source": [
        "q: the customer would buy a cheese burger deluxe \n"
      ]
    },
    {
      "cell_type": "markdown",
      "metadata": {
        "id": "S_Q4KXuIQzqM"
      },
      "source": [
        "r: Add sundae \n"
      ]
    },
    {
      "cell_type": "markdown",
      "metadata": {
        "id": "4G_vCDkcQzqN"
      },
      "source": [
        "WFF:  $(p\\rightarrow q)  \\land (\\neg p \\rightarrow r)$"
      ]
    },
    {
      "cell_type": "markdown",
      "metadata": {
        "id": "4pdF2oHmQzqN"
      },
      "source": [
        "Flowchart:"
      ]
    },
    {
      "cell_type": "markdown",
      "metadata": {
        "id": "Ne2_FlE4QzqO"
      },
      "source": [
        "![Proposition (1).jpeg](attachment:f2be95b9-e47d-4de1-862e-bf3167caadc5.jpeg)"
      ]
    },
    {
      "cell_type": "markdown",
      "metadata": {
        "id": "0rb0OMvaQzqP"
      },
      "source": [
        "Code as:"
      ]
    },
    {
      "cell_type": "code",
      "metadata": {
        "id": "BlGobZlEQzqQ",
        "outputId": "a9aec05d-2819-4cd9-fe3e-4d540f43a6a4"
      },
      "source": [
        "buy_cb = True\n",
        "if(buy_cb):\n",
        "    print(\" Cheese burger deluxe w/ fries and drinks\")\n",
        "    print(\" Orders complete\")\n",
        "else:\n",
        "    print(\"Cheese burger deluxe w/ sundae\")\n",
        "    print(\" Orders complete\")"
      ],
      "execution_count": null,
      "outputs": [
        {
          "output_type": "stream",
          "text": [
            " Cheese burger deluxe w/ fries and drinks\n",
            " Orders complete\n"
          ],
          "name": "stdout"
        }
      ]
    },
    {
      "cell_type": "markdown",
      "metadata": {
        "id": "zJ3rvVCCQzqX"
      },
      "source": [
        "Code Explanation: "
      ]
    },
    {
      "cell_type": "markdown",
      "metadata": {
        "id": "2m7hw6H3QzqX"
      },
      "source": [
        " If it is true, the customer will buy a cheese burger deluxe, it will automatically add the additional fries and drinks followed by a receipt. Otherwise, if it is false, the customer will buy a cheese burger deluxe and will a add sundae as the substitute for the fries and drinks then print a receiept. "
      ]
    },
    {
      "cell_type": "markdown",
      "metadata": {
        "id": "hOcpLYtqQzqY"
      },
      "source": [
        "### Given Pseudocode"
      ]
    },
    {
      "cell_type": "markdown",
      "metadata": {
        "id": "WliGsxhPQzqZ"
      },
      "source": [
        "![d.JPG](attachment:f77d21bf-9396-45fb-a8b3-9d5dc255a1d2.JPG)"
      ]
    },
    {
      "cell_type": "markdown",
      "metadata": {
        "id": "qjqabXF4Qzqa"
      },
      "source": [
        "### Convert to English Statement"
      ]
    },
    {
      "cell_type": "markdown",
      "metadata": {
        "id": "a5dJlLXpQzqa"
      },
      "source": [
        "#### The reservoir level is at 5mm, if the rain gauge measures 10mm, it will transfer to the resource."
      ]
    },
    {
      "cell_type": "markdown",
      "metadata": {
        "id": "c9pUH42nQzqb"
      },
      "source": [
        " p: the normal reservoir level is at 5mm \n"
      ]
    },
    {
      "cell_type": "markdown",
      "metadata": {
        "id": "As6ZmK8DQzqc"
      },
      "source": [
        "q: the reservoir level reaches at 10mm"
      ]
    },
    {
      "cell_type": "markdown",
      "metadata": {
        "id": "u9O433J5Qzqc"
      },
      "source": [
        "r: It will transfer to the resource"
      ]
    },
    {
      "cell_type": "markdown",
      "metadata": {
        "id": "a6F36qr9Qzqd"
      },
      "source": [
        "WFF: $p \\rightarrow (q\\rightarrow r)$ "
      ]
    },
    {
      "cell_type": "markdown",
      "metadata": {
        "id": "g6E3JhQcQzqd"
      },
      "source": [
        "Flowchart: "
      ]
    },
    {
      "cell_type": "markdown",
      "metadata": {
        "id": "VDrB7D_5Qzqe"
      },
      "source": [
        "![Blank diagram.png](attachment:ba979176-aee0-47ab-a869-b6c7a622e6f8.png)"
      ]
    }
  ]
}